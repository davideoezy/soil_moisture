{
 "cells": [
  {
   "cell_type": "code",
   "execution_count": 1,
   "metadata": {},
   "outputs": [],
   "source": [
    "\n",
    "import signal\n",
    "import sys\n",
    "import time\n",
    "import mysql.connector as mariadb\n",
    "from ftplib import FTP\n",
    "from ast import literal_eval\n",
    "import xml.etree.ElementTree as ET\n",
    "import datetime\n",
    "from random import randint\n",
    "\n",
    "# Set variables\n",
    "\n",
    "db_host = 'hda.amahi.net'\n",
    "db_host_port = '3306'\n",
    "db_user = 'rpi'\n",
    "db_pass = 'warm_me'\n",
    "db = 'soil'\n",
    "\n",
    "# Set control parameters\n",
    "\n",
    "\n",
    "index_max = 2  # 1 = rest of day, 2 = tomorrow, so on\n",
    "min_precip_threshold = 5  # mm expected\n",
    "min_precip_prob_threshold = 0.6  # % chance of rain\n",
    "min_hours_between_watering = 47\n",
    "min_moisture_threshold = 2.5  # taken from moisture readings. Average over 12 hours\n",
    "\n",
    "# Location parameters\n",
    "\n",
    "# Beaumaris\n",
    "forecast_id = \"IDV10450.xml\"\n",
    "location = \"VIC_PT042\"\n",
    "\n",
    "\n",
    "# Get BOM forecast xml\n",
    "\n",
    "BomFtpHost = \"ftp2.bom.gov.au\"\n",
    "BomFtpPort = 21\n",
    "BomFtpForecastPath = \"/anon/gen/fwo/\"\n",
    "retrieve_string = 'RETR ' + forecast_id\n",
    "\n"
   ]
  },
  {
   "cell_type": "code",
   "execution_count": 2,
   "metadata": {},
   "outputs": [],
   "source": [
    "\n",
    "def convert_date(string):\n",
    "    f = '%Y-%m-%dT%H:%M:%SZ'\n",
    "    return datetime.datetime.strptime(string, f)\n",
    "\n",
    "\n",
    "def create_list(index_max):\n",
    "    listofzeros = [0.0] * index_max\n",
    "    return listofzeros\n",
    "\n",
    "\n",
    "# Get forecast XML\n",
    "\n",
    "def get_forecast():\n",
    "    ftp = FTP(BomFtpHost)\n",
    "    ftp.login(user='anonymous', passwd='guest')\n",
    "    ftp.cwd(BomFtpForecastPath)\n",
    "    #ftp.retrlines('LIST')\n",
    "    ftp.retrbinary(retrieve_string, open(forecast_id, 'wb').write)\n",
    "    ftp.quit()\n",
    "    return\n",
    "\n",
    "\n",
    "# Parse xml\n",
    "\n",
    "def parse_xml(arg):\n",
    "    tree = ET.parse(arg)\n",
    "    return tree\n",
    "\n",
    "\n",
    "# Check whether forecast message is valid\n",
    "\n",
    "def check_forecast_current(tree):\n",
    "\n",
    "    issue_time = convert_date(tree.findtext(\"amoc/issue-time-utc\"))\n",
    "    expiry_time = convert_date(tree.findtext(\"amoc/expiry-time\"))\n",
    "\n",
    "    forecast_current = (issue_time <= datetime.datetime.utcnow() <= expiry_time)\n",
    "    return forecast_current\n",
    "\n",
    "# Extract precipitation details\n",
    "\n",
    "# minimum forecast precipitation\n",
    "\n",
    "def get_min_precip(index_max, tree):\n",
    "    min_precip = create_list(index_max)\n",
    "    root = tree.getroot()\n",
    "\n",
    "    for loc in root.iter(\"area\"):\n",
    "        if loc.attrib['aac'] == location:\n",
    "            for child in loc:\n",
    "                for ind in range(0, index_max):\n",
    "                    if child.attrib['index'] == str(ind):\n",
    "                        for gc in child:\n",
    "                            if(gc.attrib['type'] == 'precipitation_range'):\n",
    "                                min_precip[ind] = float(gc.text.split(' ')[0])\n",
    "\n",
    "    return min_precip\n",
    "\n",
    "# probability of precipitation \n",
    "\n",
    "def get_prob_precip(index_max, tree):\n",
    "    prob_precip = create_list(index_max)\n",
    "\n",
    "    root = tree.getroot()\n",
    "\n",
    "    for loc in root.iter(\"area\"):\n",
    "        if loc.attrib['aac'] == location:\n",
    "            for child in loc:\n",
    "                for ind in range(0, index_max):\n",
    "                    if child.attrib['index'] == str(ind):\n",
    "                        for gc in child:\n",
    "                            if(gc.attrib['type'] == 'probability_of_precipitation'):\n",
    "                                prob_precip[ind] = float(gc.text.replace('%', ''))/100\n",
    "\n",
    "    return prob_precip\n",
    "\n",
    "# Last water\n",
    "\n",
    "query_watering = \"\"\"\n",
    "SELECT\n",
    "TIMESTAMPDIFF(hour,ts,NOW()),\n",
    "watered\n",
    "FROM watering_records\n",
    "WHERE watered in('1', 'True')\n",
    "ORDER BY ts ASC\n",
    "\"\"\"\n",
    "\n",
    "def get_db_data(query, host, port, user, passwd, db):\n",
    "    con = mariadb.connect(host=host, port=port, user=user, password=passwd, database=db)\n",
    "    cur = con.cursor()\n",
    "    cur.execute(query)\n",
    "\n",
    "    for row in cur:\n",
    "        output = row[0]\n",
    "\n",
    "    return output\n",
    "\n",
    "\n",
    "\n",
    "def watered_recently(hours_since_last_water, min_hours_between_watering):\n",
    "    if hours_since_last_water < min_hours_between_watering:\n",
    "        return True\n",
    "    else:\n",
    "        return False\n",
    "\n",
    "\n",
    "\n",
    "# Determine whether to water based on rain forecast\n",
    "\n",
    "\n",
    "def rain(min_precip, prob_precip, min_precip_threshold, min_precip_prob_threshold, index_max, forecast_current):\n",
    "    \n",
    "    output_tally = 0\n",
    "        \n",
    "    if forecast_current == True:\n",
    "        for ind in range(0, index_max):\n",
    "            if prob_precip[ind] > min_precip_prob_threshold and min_precip[ind] > min_precip_threshold:\n",
    "                output_tally += 1\n",
    "        if output_tally > 0:\n",
    "            return True\n",
    "        else:\n",
    "            return False\n",
    "        \n",
    "# check average moisture\n",
    "\n",
    "query_moisture = \"\"\"\n",
    "SELECT\n",
    "avg(reading)\n",
    "FROM soil_moisture\n",
    "WHERE ts > DATE_SUB(now(), INTERVAL 12 HOUR)\n",
    "\"\"\"\n",
    "\n",
    "\n",
    "def moisture(av_moisture_L12H, min_moisture_threshold):\n",
    "    if av_moisture_L12H > min_moisture_threshold:\n",
    "        return True\n",
    "    else:\n",
    "        return False\n",
    "\n",
    "\n",
    "def collate_rules(moisture_override, rain_override, watered_recently_override):\n",
    "    func_list = [moisture_override, rain_override,watered_recently_override]\n",
    "    if True in func_list:\n",
    "        return True\n",
    "    else:\n",
    "        return False\n",
    "\n",
    "\n",
    "# Add record to database\n",
    "\n",
    "\n",
    "def insert_results(query, db_host, db_host_port, db_user, db_pass, db):\n",
    "\n",
    "    con = mariadb.connect(host=db_host, port=db_host_port,\n",
    "                       user=db_user, password=db_pass, database=db)\n",
    "    cur = con.cursor()\n",
    "    try:\n",
    "        cur.execute(insert_stmt)\n",
    "        con.commit()\n",
    "    except:\n",
    "        con.rollback()\n",
    "    con.close()\n",
    "    return\n"
   ]
  },
  {
   "cell_type": "code",
   "execution_count": 3,
   "metadata": {},
   "outputs": [],
   "source": [
    "get_forecast()"
   ]
  },
  {
   "cell_type": "code",
   "execution_count": 7,
   "metadata": {},
   "outputs": [
    {
     "data": {
      "text/plain": [
       "<xml.etree.ElementTree.ElementTree at 0x1b05e2681d0>"
      ]
     },
     "execution_count": 7,
     "metadata": {},
     "output_type": "execute_result"
    }
   ],
   "source": [
    "tree = parse_xml(forecast_id)\n"
   ]
  },
  {
   "cell_type": "code",
   "execution_count": 6,
   "metadata": {},
   "outputs": [
    {
     "data": {
      "text/plain": [
       "True"
      ]
     },
     "execution_count": 6,
     "metadata": {},
     "output_type": "execute_result"
    }
   ],
   "source": [
    "forecast_current = check_forecast_current(tree)\n",
    "forecast_current"
   ]
  },
  {
   "cell_type": "code",
   "execution_count": 8,
   "metadata": {},
   "outputs": [
    {
     "data": {
      "text/plain": [
       "[0.0, 0.0]"
      ]
     },
     "execution_count": 8,
     "metadata": {},
     "output_type": "execute_result"
    }
   ],
   "source": [
    "min_precip = get_min_precip(index_max, tree)\n",
    "min_precip"
   ]
  },
  {
   "cell_type": "code",
   "execution_count": 9,
   "metadata": {},
   "outputs": [
    {
     "data": {
      "text/plain": [
       "[0.2, 0.0]"
      ]
     },
     "execution_count": 9,
     "metadata": {},
     "output_type": "execute_result"
    }
   ],
   "source": [
    "prob_precip = get_prob_precip(index_max, tree)\n",
    "prob_precip"
   ]
  },
  {
   "cell_type": "code",
   "execution_count": 11,
   "metadata": {},
   "outputs": [
    {
     "data": {
      "text/plain": [
       "359"
      ]
     },
     "execution_count": 11,
     "metadata": {},
     "output_type": "execute_result"
    }
   ],
   "source": [
    "hours_since_last_water = get_db_data(query_watering, db_host, db_host_port, db_user, db_pass, db)\n",
    "hours_since_last_water\n"
   ]
  },
  {
   "cell_type": "code",
   "execution_count": 12,
   "metadata": {},
   "outputs": [
    {
     "data": {
      "text/plain": [
       "8.22497531146538"
      ]
     },
     "execution_count": 12,
     "metadata": {},
     "output_type": "execute_result"
    }
   ],
   "source": [
    "av_moisture_L12H = get_db_data(query_moisture, db_host, db_host_port, db_user, db_pass, db)\n",
    "av_moisture_L12H"
   ]
  },
  {
   "cell_type": "code",
   "execution_count": 13,
   "metadata": {},
   "outputs": [
    {
     "data": {
      "text/plain": [
       "False"
      ]
     },
     "execution_count": 13,
     "metadata": {},
     "output_type": "execute_result"
    }
   ],
   "source": [
    "watered_recently_override = watered_recently(hours_since_last_water, min_hours_between_watering)\n",
    "watered_recently_override"
   ]
  },
  {
   "cell_type": "code",
   "execution_count": 14,
   "metadata": {},
   "outputs": [
    {
     "data": {
      "text/plain": [
       "True"
      ]
     },
     "execution_count": 14,
     "metadata": {},
     "output_type": "execute_result"
    }
   ],
   "source": [
    "moisture_override = moisture(av_moisture_L12H, min_moisture_threshold)\n",
    "moisture_override"
   ]
  },
  {
   "cell_type": "code",
   "execution_count": 15,
   "metadata": {},
   "outputs": [
    {
     "data": {
      "text/plain": [
       "False"
      ]
     },
     "execution_count": 15,
     "metadata": {},
     "output_type": "execute_result"
    }
   ],
   "source": [
    "rain_override = rain(get_min_precip(index_max, tree), get_prob_precip(index_max, tree), min_precip_threshold, min_precip_prob_threshold, index_max, forecast_current)\n",
    "\n",
    "rain_override"
   ]
  },
  {
   "cell_type": "code",
   "execution_count": 16,
   "metadata": {},
   "outputs": [
    {
     "data": {
      "text/plain": [
       "True"
      ]
     },
     "execution_count": 16,
     "metadata": {},
     "output_type": "execute_result"
    }
   ],
   "source": [
    "hold_watering = collate_rules(moisture_override, rain_override, watered_recently_override)\n",
    "\n",
    "hold_watering"
   ]
  },
  {
   "cell_type": "code",
   "execution_count": 18,
   "metadata": {},
   "outputs": [],
   "source": [
    "min_precip_0 = min_precip[0]\n",
    "min_precip_1 = min_precip[1]\n",
    "prob_precip_0 = prob_precip[0]\n",
    "prob_precip_1 = prob_precip[1]"
   ]
  },
  {
   "cell_type": "code",
   "execution_count": 24,
   "metadata": {},
   "outputs": [
    {
     "data": {
      "text/plain": [
       "'\\nINSERT INTO watering_rules (\\nforecast_current,\\nmin_precip_0,\\nprob_precip_0,\\nmin_precip_1,\\nprob_precip_1,\\nmin_precip_threshold,\\nmin_precip_prob_threshold,\\ntime_since_last_water,\\nmin_hours_between_watering,\\nav_moisture_L12H,\\nmin_moisture_threshold,\\nrain_override,\\nwatered_recently_override,\\nmoisture_override,\\nhold_watering) \\nVALUES \\n(True,0.0,0.2,0.0,0.0,5,0.6,359,47,8.22497531146538,2.5,False,False,True,True)'"
      ]
     },
     "execution_count": 24,
     "metadata": {},
     "output_type": "execute_result"
    }
   ],
   "source": [
    "insert_stmt = \"\"\"\n",
    "INSERT INTO watering_rules (\n",
    "forecast_current,\n",
    "min_precip_0,\n",
    "prob_precip_0,\n",
    "min_precip_1,\n",
    "prob_precip_1,\n",
    "min_precip_threshold,\n",
    "min_precip_prob_threshold,\n",
    "time_since_last_water,\n",
    "min_hours_between_watering,\n",
    "av_moisture_L12H,\n",
    "min_moisture_threshold,\n",
    "rain_override,\n",
    "watered_recently_override,\n",
    "moisture_override,\n",
    "hold_watering) \n",
    "VALUES \n",
    "({},{},{},{},{},{},{},{},{},{},{},{},{},{},{})\"\"\".format(\n",
    "    forecast_current,\n",
    "    min_precip_0,\n",
    "    prob_precip_0,\n",
    "    min_precip_1,\n",
    "    prob_precip_1,\n",
    "    min_precip_threshold,\n",
    "    min_precip_prob_threshold,\n",
    "    hours_since_last_water,\n",
    "    min_hours_between_watering,\n",
    "    av_moisture_L12H,\n",
    "    min_moisture_threshold,\n",
    "    rain_override,\n",
    "    watered_recently_override,\n",
    "    moisture_override,\n",
    "    hold_watering\n",
    ")\n",
    "insert_stmt"
   ]
  },
  {
   "cell_type": "code",
   "execution_count": 25,
   "metadata": {},
   "outputs": [],
   "source": [
    "insert_results(insert_stmt, db_host, db_host_port, db_user, db_pass, db)\n"
   ]
  },
  {
   "cell_type": "code",
   "execution_count": null,
   "metadata": {},
   "outputs": [],
   "source": []
  }
 ],
 "metadata": {
  "kernelspec": {
   "display_name": "Python 3",
   "language": "python",
   "name": "python3"
  },
  "language_info": {
   "codemirror_mode": {
    "name": "ipython",
    "version": 3
   },
   "file_extension": ".py",
   "mimetype": "text/x-python",
   "name": "python",
   "nbconvert_exporter": "python",
   "pygments_lexer": "ipython3",
   "version": "3.7.0"
  }
 },
 "nbformat": 4,
 "nbformat_minor": 2
}
