{
 "cells": [
  {
   "cell_type": "code",
   "execution_count": 1,
   "metadata": {},
   "outputs": [],
   "source": [
    "import mysql.connector as mariadb\n",
    "from random import randint"
   ]
  },
  {
   "cell_type": "code",
   "execution_count": 2,
   "metadata": {},
   "outputs": [],
   "source": [
    "\n",
    "watering_duration = randint(300, 1800)\n",
    "# seconds. Randomly calculate time between 5 and 30 mins, to test duration options\n",
    "\n",
    "time_since_rules_check = 24 # if latest rules greater than this value, execute exception process\n",
    "exception_hours_between_watering = 70\n",
    "\n",
    "# Set db variables\n",
    "\n",
    "db_host = 'hda.amahi.net'\n",
    "db_host_port = '3306'\n",
    "db_user = 'rpi'\n",
    "db_pass = 'warm_me'\n",
    "db = 'soil'\n",
    "\n",
    "# Initialise variables\n",
    "\n",
    "hold_watering = True\n",
    "hours_since_last_rules = 999\n",
    "watered = False\n",
    "duration = 0.0"
   ]
  },
  {
   "cell_type": "code",
   "execution_count": 3,
   "metadata": {},
   "outputs": [],
   "source": [
    "query_rules = \"\"\"\n",
    "SELECT\n",
    "hold_watering,\n",
    "TIMESTAMPDIFF(hour,ts,NOW())\n",
    "FROM watering\n",
    "order by ts\n",
    "\"\"\"\n",
    "\n",
    "con = mariadb.connect(host=db_host, port=db_host_port,\n",
    "                      user=db_user, password=db_pass, database=db)\n",
    "cur = con.cursor()\n",
    "\n",
    "cur.execute(query_rules)\n",
    "\n",
    "for row in cur:\n",
    "    hold_watering = bool(row[0])\n",
    "    hours_since_last_rules = row[1]"
   ]
  },
  {
   "cell_type": "code",
   "execution_count": 4,
   "metadata": {},
   "outputs": [
    {
     "data": {
      "text/plain": [
       "(True, 423)"
      ]
     },
     "execution_count": 4,
     "metadata": {},
     "output_type": "execute_result"
    }
   ],
   "source": [
    "hold_watering, hours_since_last_rules"
   ]
  },
  {
   "cell_type": "code",
   "execution_count": 5,
   "metadata": {},
   "outputs": [],
   "source": [
    "\n",
    "query_exception = \"\"\"\n",
    "SELECT\n",
    "TIMESTAMPDIFF(hour, ts, NOW()),\n",
    "watered\n",
    "FROM watering_records\n",
    "WHERE watered in('1', 'True')\n",
    "ORDER BY ts ASC\n",
    "\"\"\"\n",
    "\n",
    "con = mariadb.connect(host=db_host, port=db_host_port,\n",
    "user=db_user, password=db_pass, database=db)\n",
    "\n",
    "cur = con.cursor()\n",
    "\n",
    "cur.execute(query_exception)\n",
    "\n",
    "hours_since_last_water = 999\n",
    "\n",
    "for row in cur:\n",
    "    hours_since_last_water = row[0]\n",
    "\n",
    "if hours_since_last_rules > time_since_rules_check:\n",
    "    if hours_since_last_water > exception_hours_between_watering:\n",
    "        hold_watering = False\n",
    "    else:\n",
    "        hold_watering = True\n",
    "\n"
   ]
  },
  {
   "cell_type": "code",
   "execution_count": 6,
   "metadata": {},
   "outputs": [
    {
     "data": {
      "text/plain": [
       "790"
      ]
     },
     "execution_count": 6,
     "metadata": {},
     "output_type": "execute_result"
    }
   ],
   "source": [
    "hours_since_last_water\n"
   ]
  },
  {
   "cell_type": "code",
   "execution_count": 7,
   "metadata": {},
   "outputs": [
    {
     "data": {
      "text/plain": [
       "False"
      ]
     },
     "execution_count": 7,
     "metadata": {},
     "output_type": "execute_result"
    }
   ],
   "source": [
    "hold_watering"
   ]
  },
  {
   "cell_type": "code",
   "execution_count": 8,
   "metadata": {},
   "outputs": [],
   "source": [
    "\n",
    "import signal\n",
    "import sys\n",
    "import time\n",
    "#import smbus\n",
    "import mysql.connector as mariadb\n",
    "from ast import literal_eval\n",
    "import datetime\n",
    "from random import randint\n",
    "\n",
    "# Set control parameters\n",
    "\n",
    "watering_duration = randint(300, 1800)\n",
    "# seconds. Randomly calculate time between 5 and 30 mins, to test duration options\n",
    "\n",
    "time_since_rules_check = 24 # if latest rules greater than this value, execute exception process\n",
    "exception_hours_between_watering = 70\n",
    "\n",
    "# Set db variables\n",
    "\n",
    "db_host = 'hda.amahi.net'\n",
    "db_host_port = '3306'\n",
    "db_user = 'rpi'\n",
    "db_pass = 'warm_me'\n",
    "db = 'soil'\n",
    "\n",
    "# Initialise variables\n",
    "\n",
    "hold_watering = True\n",
    "hours_since_last_rules = 999\n",
    "watered = False\n",
    "duration = 0.0"
   ]
  },
  {
   "cell_type": "code",
   "execution_count": 9,
   "metadata": {},
   "outputs": [],
   "source": [
    "\n",
    "query_rules = \"\"\"\n",
    "SELECT\n",
    "hold_watering,\n",
    "TIMESTAMPDIFF(hour,ts,NOW())\n",
    "FROM watering_rules\n",
    "order by ts\n",
    "\"\"\"\n",
    "\n",
    "con = mariadb.connect(host=db_host, port=db_host_port,\n",
    "                      user=db_user, password=db_pass, database=db)\n",
    "cur = con.cursor()\n",
    "\n",
    "cur.execute(query_rules)\n",
    "\n",
    "for row in cur:\n",
    "    hold_watering = bool(int(row[0]))\n",
    "    hours_since_last_rules = row[1]\n"
   ]
  },
  {
   "cell_type": "code",
   "execution_count": 10,
   "metadata": {},
   "outputs": [
    {
     "data": {
      "text/plain": [
       "True"
      ]
     },
     "execution_count": 10,
     "metadata": {},
     "output_type": "execute_result"
    }
   ],
   "source": [
    "hold_watering\n"
   ]
  },
  {
   "cell_type": "code",
   "execution_count": 11,
   "metadata": {},
   "outputs": [
    {
     "data": {
      "text/plain": [
       "25"
      ]
     },
     "execution_count": 11,
     "metadata": {},
     "output_type": "execute_result"
    }
   ],
   "source": [
    "hours_since_last_rules"
   ]
  },
  {
   "cell_type": "code",
   "execution_count": 19,
   "metadata": {},
   "outputs": [],
   "source": [
    "\n",
    "import signal\n",
    "import sys\n",
    "import time\n",
    "import mysql.connector as mariadb\n",
    "from ftplib import FTP\n",
    "from ast import literal_eval\n",
    "import xml.etree.ElementTree as ET\n",
    "import datetime\n",
    "from random import randint\n",
    "import subprocess\n",
    "import numpy as np\n",
    "import pandas as pd\n",
    "\n",
    "\n",
    "# Set variables\n",
    "\n",
    "db_host = '192.168.0.10'\n",
    "db_host_port = '3306'\n",
    "db_user = 'rpi'\n",
    "db_pass = 'warm_me'\n",
    "db = 'soil'\n",
    "#wifi_interface = \"wlan0\"\n",
    "wifi_interface = \"wlp59s0\"\n",
    "\n",
    "# Set control parameters\n",
    "\n",
    "\n",
    "index_max = 2  # 1 = rest of day, 2 = tomorrow, so on\n",
    "min_precip_threshold = 5  # mm expected\n",
    "min_precip_prob_threshold = 0.6  # % chance of rain\n",
    "min_hours_between_watering = 47\n",
    "min_moisture_threshold = 3.0  # taken from moisture readings. Average over 12 hours\n",
    "\n",
    "# Location parameters\n",
    "\n",
    "# Beaumaris\n",
    "forecast_id = \"IDV10450.xml\"\n",
    "location = \"VIC_PT042\"\n",
    "\n",
    "\n",
    "# Get BOM forecast xml\n",
    "\n",
    "BomFtpHost = \"ftp2.bom.gov.au\"\n",
    "BomFtpPort = 21\n",
    "BomFtpForecastPath = \"/anon/gen/fwo/\"\n",
    "retrieve_string = 'RETR ' + forecast_id\n",
    "\n",
    "\n",
    "# def read_device_address():\n",
    "#     try:\n",
    "#         proc = subprocess.Popen([\"ip\", \"a\"], stdout=subprocess.PIPE, universal_newlines=True)\n",
    "#         out, err = proc.communicate()\n",
    "#         IP = \"\"\n",
    "#         for line in out.split(\"\\n\"):\n",
    "#             if(\"192.168\" in line):\n",
    "#                 strings = line.split(\" \")\n",
    "#                 full_device_address = strings[5]\n",
    "#                 device_address = full_device_address[:-3]\n",
    "#                 return(device_address)\n",
    "#     except:\n",
    "#         return(\"ERROR!-ifconfig\")\n",
    "\n",
    "def read_device_address():\n",
    "    return(\"\")\n",
    "\n",
    "\n",
    "def convert_date(string):\n",
    "    f = '%Y-%m-%dT%H:%M:%SZ'\n",
    "    return datetime.datetime.strptime(string, f)\n",
    "\n",
    "\n",
    "def create_list(index_max):\n",
    "    listofzeros = [0.0] * index_max\n",
    "    return listofzeros\n",
    "\n",
    "\n",
    "# Get forecast XML\n",
    "\n",
    "def get_forecast():\n",
    "    ftp = FTP(BomFtpHost)\n",
    "    ftp.login(user='anonymous', passwd='guest')\n",
    "    ftp.cwd(BomFtpForecastPath)\n",
    "    #ftp.retrlines('LIST')\n",
    "    ftp.retrbinary(retrieve_string, open(forecast_id, 'wb').write)\n",
    "    ftp.quit()\n",
    "    return\n",
    "\n",
    "\n",
    "# Parse xml\n",
    "\n",
    "def parse_xml(arg):\n",
    "    tree = ET.parse(arg)\n",
    "    return tree\n",
    "\n",
    "\n",
    "# Check whether forecast message is valid\n",
    "\n",
    "def check_forecast_current(tree):\n",
    "\n",
    "    issue_time = convert_date(tree.findtext(\"amoc/issue-time-utc\"))\n",
    "    expiry_time = convert_date(tree.findtext(\"amoc/expiry-time\"))\n",
    "\n",
    "    forecast_current = (issue_time <= datetime.datetime.utcnow() <= expiry_time)\n",
    "    return forecast_current\n",
    "\n",
    "# Extract precipitation details\n",
    "\n",
    "# minimum forecast precipitation\n",
    "\n",
    "def get_min_precip(index_max, tree):\n",
    "    min_precip = create_list(index_max)\n",
    "    root = tree.getroot()\n",
    "\n",
    "    for loc in root.iter(\"area\"):\n",
    "        if loc.attrib['aac'] == location:\n",
    "            for child in loc:\n",
    "                for ind in range(0, index_max):\n",
    "                    if child.attrib['index'] == str(ind):\n",
    "                        for gc in child:\n",
    "                            if(gc.attrib['type'] == 'precipitation_range'):\n",
    "                                try:\n",
    "                                    min_precip[ind] = np.mean([float(gc.text.split(' ')[0]), float(gc.text.split(' ')[2])])\n",
    "                                except:\n",
    "                                    min_precip[ind] = float(gc.text.split(' ')[0])\n",
    "\n",
    "\n",
    "    return min_precip\n",
    "\n",
    "# probability of precipitation \n",
    "\n",
    "def get_prob_precip(index_max, tree):\n",
    "    prob_precip = create_list(index_max)\n",
    "\n",
    "    root = tree.getroot()\n",
    "\n",
    "    for loc in root.iter(\"area\"):\n",
    "        if loc.attrib['aac'] == location:\n",
    "            for child in loc:\n",
    "                for ind in range(0, index_max):\n",
    "                    if child.attrib['index'] == str(ind):\n",
    "                        for gc in child:\n",
    "                            if(gc.attrib['type'] == 'probability_of_precipitation'):\n",
    "                                prob_precip[ind] = float(gc.text.replace('%', ''))/100\n",
    "\n",
    "    return prob_precip\n",
    "\n",
    "# Last water\n",
    "\n",
    "query_watering = \"\"\"\n",
    "SELECT\n",
    "TIMESTAMPDIFF(hour,ts,NOW()),\n",
    "watered\n",
    "FROM watering_log\n",
    "WHERE watered = 1\n",
    "ORDER BY ts ASC\n",
    "\"\"\"\n",
    "\n",
    "def get_db_data(query, host, port, user, passwd, db):\n",
    "    con = mariadb.connect(host=host, port=port, user=user, password=passwd, database=db)\n",
    "    cur = con.cursor()\n",
    "    cur.execute(query)\n",
    "\n",
    "    output = 999\n",
    "    \n",
    "    for row in cur:\n",
    "        output = row[0]\n",
    "\n",
    "    return output\n",
    "\n",
    "\n",
    "\n",
    "def watered_recently(hours_since_last_water, min_hours_between_watering):\n",
    "    if hours_since_last_water < min_hours_between_watering:\n",
    "        return True\n",
    "    else:\n",
    "        return False\n",
    "\n",
    "\n",
    "\n",
    "# Determine whether to water based on rain forecast\n",
    "\n",
    "\n",
    "def rain(min_precip, prob_precip, min_precip_threshold, min_precip_prob_threshold, index_max, forecast_current):\n",
    "    \n",
    "    output_tally = 0\n",
    "        \n",
    "    if forecast_current == True:\n",
    "        for ind in range(0, index_max):\n",
    "            if prob_precip[ind] > min_precip_prob_threshold and min_precip[ind] > min_precip_threshold:\n",
    "                output_tally += 1\n",
    "        if output_tally > 0:\n",
    "            return True\n",
    "        else:\n",
    "            return False\n",
    "        \n",
    "# check average moisture\n",
    "\n",
    "query_moisture = \"\"\"\n",
    "SELECT\n",
    "avg(reading)\n",
    "FROM soil_moisture\n",
    "WHERE ts > DATE_SUB(now(), INTERVAL 12 HOUR)\n",
    "\"\"\"\n",
    "\n",
    "\n",
    "def moisture(av_moisture_L12H, min_moisture_threshold):\n",
    "    if av_moisture_L12H > min_moisture_threshold:\n",
    "        return True\n",
    "    else:\n",
    "        return False\n",
    "\n",
    "\n",
    "def collate_rules(moisture_override, rain_override, watered_recently_override):\n",
    "    func_list = [moisture_override, rain_override,watered_recently_override]\n",
    "    if True in func_list:\n",
    "        return True\n",
    "    else:\n",
    "        return False\n",
    "\n",
    "\n",
    "# Add record to database\n",
    "\n",
    "\n",
    "def insert_results(query, db_host, db_host_port, db_user, db_pass, db):\n",
    "\n",
    "    con = mariadb.connect(host=db_host, port=db_host_port,\n",
    "                       user=db_user, password=db_pass, database=db)\n",
    "    cur = con.cursor()\n",
    "    try:\n",
    "        cur.execute(insert_stmt)\n",
    "        con.commit()\n",
    "    except:\n",
    "        con.rollback()\n",
    "    con.close()\n",
    "    return\n"
   ]
  },
  {
   "cell_type": "code",
   "execution_count": 20,
   "metadata": {},
   "outputs": [],
   "source": [
    "hours_since_last_water = get_db_data(query_watering, db_host, db_host_port, db_user, db_pass, db)"
   ]
  },
  {
   "cell_type": "code",
   "execution_count": 21,
   "metadata": {},
   "outputs": [
    {
     "data": {
      "text/plain": [
       "999"
      ]
     },
     "execution_count": 21,
     "metadata": {},
     "output_type": "execute_result"
    }
   ],
   "source": [
    "hours_since_last_water"
   ]
  },
  {
   "cell_type": "code",
   "execution_count": null,
   "metadata": {},
   "outputs": [],
   "source": []
  },
  {
   "cell_type": "code",
   "execution_count": 14,
   "metadata": {},
   "outputs": [],
   "source": [
    "query = \"\"\"\n",
    "SELECT\n",
    "*\n",
    "FROM watering_log\n",
    "ORDER BY ts ASC\n",
    "\"\"\""
   ]
  },
  {
   "cell_type": "code",
   "execution_count": 15,
   "metadata": {},
   "outputs": [],
   "source": [
    "con = mariadb.connect(host=db_host, port=db_host_port, user=db_user, password=db_pass, database=db)\n",
    "cur = con.cursor()\n",
    "df = cur.execute(query)\n",
    "\n"
   ]
  },
  {
   "cell_type": "code",
   "execution_count": 18,
   "metadata": {},
   "outputs": [
    {
     "ename": "InternalError",
     "evalue": "Unread result found",
     "output_type": "error",
     "traceback": [
      "\u001b[1;31m---------------------------------------------------------------------------\u001b[0m",
      "\u001b[1;31mInternalError\u001b[0m                             Traceback (most recent call last)",
      "\u001b[1;32m<ipython-input-18-ae2a727abe27>\u001b[0m in \u001b[0;36m<module>\u001b[1;34m()\u001b[0m\n\u001b[1;32m----> 1\u001b[1;33m \u001b[0mdf\u001b[0m \u001b[1;33m=\u001b[0m\u001b[0mpd\u001b[0m\u001b[1;33m.\u001b[0m\u001b[0mread_sql\u001b[0m\u001b[1;33m(\u001b[0m\u001b[0mquery\u001b[0m\u001b[1;33m,\u001b[0m \u001b[0mcon\u001b[0m\u001b[1;33m)\u001b[0m\u001b[1;33m\u001b[0m\u001b[0m\n\u001b[0m",
      "\u001b[1;32m~\\Anaconda3\\lib\\site-packages\\pandas\\io\\sql.py\u001b[0m in \u001b[0;36mread_sql\u001b[1;34m(sql, con, index_col, coerce_float, params, parse_dates, columns, chunksize)\u001b[0m\n\u001b[0;32m    379\u001b[0m             \u001b[0msql\u001b[0m\u001b[1;33m,\u001b[0m \u001b[0mindex_col\u001b[0m\u001b[1;33m=\u001b[0m\u001b[0mindex_col\u001b[0m\u001b[1;33m,\u001b[0m \u001b[0mparams\u001b[0m\u001b[1;33m=\u001b[0m\u001b[0mparams\u001b[0m\u001b[1;33m,\u001b[0m\u001b[1;33m\u001b[0m\u001b[0m\n\u001b[0;32m    380\u001b[0m             \u001b[0mcoerce_float\u001b[0m\u001b[1;33m=\u001b[0m\u001b[0mcoerce_float\u001b[0m\u001b[1;33m,\u001b[0m \u001b[0mparse_dates\u001b[0m\u001b[1;33m=\u001b[0m\u001b[0mparse_dates\u001b[0m\u001b[1;33m,\u001b[0m\u001b[1;33m\u001b[0m\u001b[0m\n\u001b[1;32m--> 381\u001b[1;33m             chunksize=chunksize)\n\u001b[0m\u001b[0;32m    382\u001b[0m \u001b[1;33m\u001b[0m\u001b[0m\n\u001b[0;32m    383\u001b[0m     \u001b[1;32mtry\u001b[0m\u001b[1;33m:\u001b[0m\u001b[1;33m\u001b[0m\u001b[0m\n",
      "\u001b[1;32m~\\Anaconda3\\lib\\site-packages\\pandas\\io\\sql.py\u001b[0m in \u001b[0;36mread_query\u001b[1;34m(self, sql, index_col, coerce_float, params, parse_dates, chunksize)\u001b[0m\n\u001b[0;32m   1411\u001b[0m \u001b[1;33m\u001b[0m\u001b[0m\n\u001b[0;32m   1412\u001b[0m         \u001b[0margs\u001b[0m \u001b[1;33m=\u001b[0m \u001b[0m_convert_params\u001b[0m\u001b[1;33m(\u001b[0m\u001b[0msql\u001b[0m\u001b[1;33m,\u001b[0m \u001b[0mparams\u001b[0m\u001b[1;33m)\u001b[0m\u001b[1;33m\u001b[0m\u001b[0m\n\u001b[1;32m-> 1413\u001b[1;33m         \u001b[0mcursor\u001b[0m \u001b[1;33m=\u001b[0m \u001b[0mself\u001b[0m\u001b[1;33m.\u001b[0m\u001b[0mexecute\u001b[0m\u001b[1;33m(\u001b[0m\u001b[1;33m*\u001b[0m\u001b[0margs\u001b[0m\u001b[1;33m)\u001b[0m\u001b[1;33m\u001b[0m\u001b[0m\n\u001b[0m\u001b[0;32m   1414\u001b[0m         \u001b[0mcolumns\u001b[0m \u001b[1;33m=\u001b[0m \u001b[1;33m[\u001b[0m\u001b[0mcol_desc\u001b[0m\u001b[1;33m[\u001b[0m\u001b[1;36m0\u001b[0m\u001b[1;33m]\u001b[0m \u001b[1;32mfor\u001b[0m \u001b[0mcol_desc\u001b[0m \u001b[1;32min\u001b[0m \u001b[0mcursor\u001b[0m\u001b[1;33m.\u001b[0m\u001b[0mdescription\u001b[0m\u001b[1;33m]\u001b[0m\u001b[1;33m\u001b[0m\u001b[0m\n\u001b[0;32m   1415\u001b[0m \u001b[1;33m\u001b[0m\u001b[0m\n",
      "\u001b[1;32m~\\Anaconda3\\lib\\site-packages\\pandas\\io\\sql.py\u001b[0m in \u001b[0;36mexecute\u001b[1;34m(self, *args, **kwargs)\u001b[0m\n\u001b[0;32m   1371\u001b[0m             \u001b[0mcur\u001b[0m \u001b[1;33m=\u001b[0m \u001b[0mself\u001b[0m\u001b[1;33m.\u001b[0m\u001b[0mcon\u001b[0m\u001b[1;33m\u001b[0m\u001b[0m\n\u001b[0;32m   1372\u001b[0m         \u001b[1;32melse\u001b[0m\u001b[1;33m:\u001b[0m\u001b[1;33m\u001b[0m\u001b[0m\n\u001b[1;32m-> 1373\u001b[1;33m             \u001b[0mcur\u001b[0m \u001b[1;33m=\u001b[0m \u001b[0mself\u001b[0m\u001b[1;33m.\u001b[0m\u001b[0mcon\u001b[0m\u001b[1;33m.\u001b[0m\u001b[0mcursor\u001b[0m\u001b[1;33m(\u001b[0m\u001b[1;33m)\u001b[0m\u001b[1;33m\u001b[0m\u001b[0m\n\u001b[0m\u001b[0;32m   1374\u001b[0m         \u001b[1;32mtry\u001b[0m\u001b[1;33m:\u001b[0m\u001b[1;33m\u001b[0m\u001b[0m\n\u001b[0;32m   1375\u001b[0m             \u001b[1;32mif\u001b[0m \u001b[0mkwargs\u001b[0m\u001b[1;33m:\u001b[0m\u001b[1;33m\u001b[0m\u001b[0m\n",
      "\u001b[1;32m~\\Anaconda3\\lib\\site-packages\\mysql\\connector\\connection.py\u001b[0m in \u001b[0;36mcursor\u001b[1;34m(self, buffered, raw, prepared, cursor_class, dictionary, named_tuple)\u001b[0m\n\u001b[0;32m    808\u001b[0m         \u001b[0mReturns\u001b[0m \u001b[0ma\u001b[0m \u001b[0mcursor\u001b[0m\u001b[1;33m-\u001b[0m\u001b[0mobject\u001b[0m\u001b[1;33m\u001b[0m\u001b[0m\n\u001b[0;32m    809\u001b[0m         \"\"\"\n\u001b[1;32m--> 810\u001b[1;33m         \u001b[0mself\u001b[0m\u001b[1;33m.\u001b[0m\u001b[0mhandle_unread_result\u001b[0m\u001b[1;33m(\u001b[0m\u001b[1;33m)\u001b[0m\u001b[1;33m\u001b[0m\u001b[0m\n\u001b[0m\u001b[0;32m    811\u001b[0m \u001b[1;33m\u001b[0m\u001b[0m\n\u001b[0;32m    812\u001b[0m         \u001b[1;32mif\u001b[0m \u001b[1;32mnot\u001b[0m \u001b[0mself\u001b[0m\u001b[1;33m.\u001b[0m\u001b[0mis_connected\u001b[0m\u001b[1;33m(\u001b[0m\u001b[1;33m)\u001b[0m\u001b[1;33m:\u001b[0m\u001b[1;33m\u001b[0m\u001b[0m\n",
      "\u001b[1;32m~\\Anaconda3\\lib\\site-packages\\mysql\\connector\\connection.py\u001b[0m in \u001b[0;36mhandle_unread_result\u001b[1;34m(self)\u001b[0m\n\u001b[0;32m   1061\u001b[0m             \u001b[0mself\u001b[0m\u001b[1;33m.\u001b[0m\u001b[0mconsume_results\u001b[0m\u001b[1;33m(\u001b[0m\u001b[1;33m)\u001b[0m\u001b[1;33m\u001b[0m\u001b[0m\n\u001b[0;32m   1062\u001b[0m         \u001b[1;32melif\u001b[0m \u001b[0mself\u001b[0m\u001b[1;33m.\u001b[0m\u001b[0munread_result\u001b[0m\u001b[1;33m:\u001b[0m\u001b[1;33m\u001b[0m\u001b[0m\n\u001b[1;32m-> 1063\u001b[1;33m             \u001b[1;32mraise\u001b[0m \u001b[0merrors\u001b[0m\u001b[1;33m.\u001b[0m\u001b[0mInternalError\u001b[0m\u001b[1;33m(\u001b[0m\u001b[1;34m\"Unread result found\"\u001b[0m\u001b[1;33m)\u001b[0m\u001b[1;33m\u001b[0m\u001b[0m\n\u001b[0m",
      "\u001b[1;31mInternalError\u001b[0m: Unread result found"
     ]
    }
   ],
   "source": [
    "df =pd.read_sql(query, con)"
   ]
  },
  {
   "cell_type": "code",
   "execution_count": 6,
   "metadata": {},
   "outputs": [
    {
     "data": {
      "text/plain": [
       "<xml.etree.ElementTree.ElementTree at 0x232104497b8>"
      ]
     },
     "execution_count": 6,
     "metadata": {},
     "output_type": "execute_result"
    }
   ],
   "source": []
  },
  {
   "cell_type": "code",
   "execution_count": 7,
   "metadata": {},
   "outputs": [],
   "source": [
    "forecast_current = check_forecast_current(tree)\n"
   ]
  },
  {
   "cell_type": "code",
   "execution_count": 8,
   "metadata": {},
   "outputs": [
    {
     "data": {
      "text/plain": [
       "True"
      ]
     },
     "execution_count": 8,
     "metadata": {},
     "output_type": "execute_result"
    }
   ],
   "source": [
    "forecast_current"
   ]
  },
  {
   "cell_type": "code",
   "execution_count": 10,
   "metadata": {},
   "outputs": [
    {
     "ename": "IndexError",
     "evalue": "list index out of range",
     "output_type": "error",
     "traceback": [
      "\u001b[1;31m---------------------------------------------------------------------------\u001b[0m",
      "\u001b[1;31mIndexError\u001b[0m                                Traceback (most recent call last)",
      "\u001b[1;32m<ipython-input-10-a1cc2e75402a>\u001b[0m in \u001b[0;36m<module>\u001b[1;34m()\u001b[0m\n\u001b[1;32m----> 1\u001b[1;33m \u001b[0mmin_precip\u001b[0m \u001b[1;33m=\u001b[0m \u001b[0mget_min_precip\u001b[0m\u001b[1;33m(\u001b[0m\u001b[0mindex_max\u001b[0m\u001b[1;33m,\u001b[0m \u001b[0mtree\u001b[0m\u001b[1;33m)\u001b[0m\u001b[1;33m\u001b[0m\u001b[0m\n\u001b[0m",
      "\u001b[1;32m<ipython-input-1-306332a2c195>\u001b[0m in \u001b[0;36mget_min_precip\u001b[1;34m(index_max, tree)\u001b[0m\n\u001b[0;32m    114\u001b[0m                         \u001b[1;32mfor\u001b[0m \u001b[0mgc\u001b[0m \u001b[1;32min\u001b[0m \u001b[0mchild\u001b[0m\u001b[1;33m:\u001b[0m\u001b[1;33m\u001b[0m\u001b[0m\n\u001b[0;32m    115\u001b[0m                             \u001b[1;32mif\u001b[0m\u001b[1;33m(\u001b[0m\u001b[0mgc\u001b[0m\u001b[1;33m.\u001b[0m\u001b[0mattrib\u001b[0m\u001b[1;33m[\u001b[0m\u001b[1;34m'type'\u001b[0m\u001b[1;33m]\u001b[0m \u001b[1;33m==\u001b[0m \u001b[1;34m'precipitation_range'\u001b[0m\u001b[1;33m)\u001b[0m\u001b[1;33m:\u001b[0m\u001b[1;33m\u001b[0m\u001b[0m\n\u001b[1;32m--> 116\u001b[1;33m                                 \u001b[0mmin_precip\u001b[0m\u001b[1;33m[\u001b[0m\u001b[0mind\u001b[0m\u001b[1;33m]\u001b[0m \u001b[1;33m=\u001b[0m \u001b[0mnp\u001b[0m\u001b[1;33m.\u001b[0m\u001b[0mmean\u001b[0m\u001b[1;33m(\u001b[0m\u001b[1;33m[\u001b[0m\u001b[0mfloat\u001b[0m\u001b[1;33m(\u001b[0m\u001b[0mgc\u001b[0m\u001b[1;33m.\u001b[0m\u001b[0mtext\u001b[0m\u001b[1;33m.\u001b[0m\u001b[0msplit\u001b[0m\u001b[1;33m(\u001b[0m\u001b[1;34m' '\u001b[0m\u001b[1;33m)\u001b[0m\u001b[1;33m[\u001b[0m\u001b[1;36m0\u001b[0m\u001b[1;33m]\u001b[0m\u001b[1;33m)\u001b[0m\u001b[1;33m,\u001b[0m \u001b[0mfloat\u001b[0m\u001b[1;33m(\u001b[0m\u001b[0mgc\u001b[0m\u001b[1;33m.\u001b[0m\u001b[0mtext\u001b[0m\u001b[1;33m.\u001b[0m\u001b[0msplit\u001b[0m\u001b[1;33m(\u001b[0m\u001b[1;34m' '\u001b[0m\u001b[1;33m)\u001b[0m\u001b[1;33m[\u001b[0m\u001b[1;36m2\u001b[0m\u001b[1;33m]\u001b[0m\u001b[1;33m)\u001b[0m\u001b[1;33m]\u001b[0m\u001b[1;33m)\u001b[0m\u001b[1;33m\u001b[0m\u001b[0m\n\u001b[0m\u001b[0;32m    117\u001b[0m \u001b[1;33m\u001b[0m\u001b[0m\n\u001b[0;32m    118\u001b[0m     \u001b[1;32mreturn\u001b[0m \u001b[0mmin_precip\u001b[0m\u001b[1;33m\u001b[0m\u001b[0m\n",
      "\u001b[1;31mIndexError\u001b[0m: list index out of range"
     ]
    }
   ],
   "source": [
    "min_precip = get_min_precip(index_max, tree)\n"
   ]
  },
  {
   "cell_type": "code",
   "execution_count": 21,
   "metadata": {},
   "outputs": [],
   "source": [
    "min_precip = create_list(index_max)\n",
    "root = tree.getroot()\n",
    "\n",
    "for loc in root.iter(\"area\"):\n",
    "    if loc.attrib['aac'] == location:\n",
    "        for child in loc:\n",
    "            for ind in range(0, index_max):\n",
    "                if child.attrib['index'] == str(ind):\n",
    "                    for gc in child:\n",
    "                        if(gc.attrib['type'] == 'precipitation_range'):\n",
    "                            try:\n",
    "                                min_precip[ind] = np.mean([float(gc.text.split(' ')[0]), float(gc.text.split(' ')[2])])\n",
    "                            except:\n",
    "                                min_precip[ind] = (float(gc.text.split(' ')[0]))\n"
   ]
  },
  {
   "cell_type": "code",
   "execution_count": 22,
   "metadata": {},
   "outputs": [
    {
     "data": {
      "text/plain": [
       "[0.0, 0.0]"
      ]
     },
     "execution_count": 22,
     "metadata": {},
     "output_type": "execute_result"
    }
   ],
   "source": [
    "min_precip"
   ]
  },
  {
   "cell_type": "code",
   "execution_count": null,
   "metadata": {},
   "outputs": [],
   "source": []
  }
 ],
 "metadata": {
  "kernelspec": {
   "display_name": "Python 3",
   "language": "python",
   "name": "python3"
  },
  "language_info": {
   "codemirror_mode": {
    "name": "ipython",
    "version": 3
   },
   "file_extension": ".py",
   "mimetype": "text/x-python",
   "name": "python",
   "nbconvert_exporter": "python",
   "pygments_lexer": "ipython3",
   "version": "3.7.0"
  }
 },
 "nbformat": 4,
 "nbformat_minor": 2
}
