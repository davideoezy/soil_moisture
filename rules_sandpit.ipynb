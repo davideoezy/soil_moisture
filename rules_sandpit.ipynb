{
 "cells": [
  {
   "cell_type": "code",
   "execution_count": 1,
   "metadata": {},
   "outputs": [],
   "source": [
    "import mysql.connector as mariadb\n",
    "from random import randint"
   ]
  },
  {
   "cell_type": "code",
   "execution_count": 2,
   "metadata": {},
   "outputs": [],
   "source": [
    "\n",
    "watering_duration = randint(300, 1800)\n",
    "# seconds. Randomly calculate time between 5 and 30 mins, to test duration options\n",
    "\n",
    "time_since_rules_check = 24 # if latest rules greater than this value, execute exception process\n",
    "exception_hours_between_watering = 70\n",
    "\n",
    "# Set db variables\n",
    "\n",
    "db_host = 'hda.amahi.net'\n",
    "db_host_port = '3306'\n",
    "db_user = 'rpi'\n",
    "db_pass = 'warm_me'\n",
    "db = 'soil'\n",
    "\n",
    "# Initialise variables\n",
    "\n",
    "hold_watering = True\n",
    "hours_since_last_rules = 999\n",
    "watered = False\n",
    "duration = 0.0"
   ]
  },
  {
   "cell_type": "code",
   "execution_count": 3,
   "metadata": {},
   "outputs": [],
   "source": [
    "query_rules = \"\"\"\n",
    "SELECT\n",
    "hold_watering,\n",
    "TIMESTAMPDIFF(hour,ts,NOW())\n",
    "FROM watering\n",
    "order by ts\n",
    "\"\"\"\n",
    "\n",
    "con = mariadb.connect(host=db_host, port=db_host_port,\n",
    "                      user=db_user, password=db_pass, database=db)\n",
    "cur = con.cursor()\n",
    "\n",
    "cur.execute(query_rules)\n",
    "\n",
    "for row in cur:\n",
    "    hold_watering = bool(row[0])\n",
    "    hours_since_last_rules = row[1]"
   ]
  },
  {
   "cell_type": "code",
   "execution_count": 4,
   "metadata": {},
   "outputs": [
    {
     "data": {
      "text/plain": [
       "(True, 16)"
      ]
     },
     "execution_count": 4,
     "metadata": {},
     "output_type": "execute_result"
    }
   ],
   "source": [
    "hold_watering, hours_since_last_rules"
   ]
  },
  {
   "cell_type": "code",
   "execution_count": 5,
   "metadata": {},
   "outputs": [],
   "source": [
    "\n",
    "query_exception = \"\"\"\n",
    "SELECT\n",
    "TIMESTAMPDIFF(hour, ts, NOW()),\n",
    "watered\n",
    "FROM watering_records\n",
    "WHERE watered in('1', 'True')\n",
    "ORDER BY ts ASC\n",
    "\"\"\"\n",
    "\n",
    "con = mariadb.connect(host=db_host, port=db_host_port,\n",
    "user=db_user, password=db_pass, database=db)\n",
    "\n",
    "cur = con.cursor()\n",
    "\n",
    "cur.execute(query_exception)\n",
    "\n",
    "hours_since_last_water = 999\n",
    "\n",
    "for row in cur:\n",
    "    hours_since_last_water = row[0]\n",
    "\n",
    "if hours_since_last_rules > time_since_rules_check:\n",
    "    if hours_since_last_water > exception_hours_between_watering:\n",
    "        hold_watering = False\n",
    "    else:\n",
    "        hold_watering = True\n",
    "\n"
   ]
  },
  {
   "cell_type": "code",
   "execution_count": 6,
   "metadata": {},
   "outputs": [
    {
     "data": {
      "text/plain": [
       "382"
      ]
     },
     "execution_count": 6,
     "metadata": {},
     "output_type": "execute_result"
    }
   ],
   "source": [
    "hours_since_last_water\n"
   ]
  },
  {
   "cell_type": "code",
   "execution_count": 7,
   "metadata": {},
   "outputs": [
    {
     "data": {
      "text/plain": [
       "True"
      ]
     },
     "execution_count": 7,
     "metadata": {},
     "output_type": "execute_result"
    }
   ],
   "source": [
    "hold_watering"
   ]
  },
  {
   "cell_type": "code",
   "execution_count": null,
   "metadata": {},
   "outputs": [],
   "source": []
  },
  {
   "cell_type": "code",
   "execution_count": null,
   "metadata": {},
   "outputs": [],
   "source": []
  }
 ],
 "metadata": {
  "kernelspec": {
   "display_name": "Python 3",
   "language": "python",
   "name": "python3"
  },
  "language_info": {
   "codemirror_mode": {
    "name": "ipython",
    "version": 3
   },
   "file_extension": ".py",
   "mimetype": "text/x-python",
   "name": "python",
   "nbconvert_exporter": "python",
   "pygments_lexer": "ipython3",
   "version": "3.7.0"
  }
 },
 "nbformat": 4,
 "nbformat_minor": 2
}
